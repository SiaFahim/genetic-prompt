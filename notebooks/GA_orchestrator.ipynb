{
 "cells": [
  {
   "cell_type": "markdown",
   "metadata": {},
   "source": [
    "# GSM8K GA Orchestrator\n",
    "Centralized notebook to run experiments and monitor results."
   ]
  },
  {
   "cell_type": "code",
   "execution_count": null,
   "metadata": {},
   "outputs": [],
   "source": [
    "# Environment bootstrap (loads .env, config)\n",
    "from src.utils.config import load_config\n",
    "cfg = load_config()\n",
    "print(f\"Using provider={cfg.model_provider}, model={cfg.model_name}, temp={cfg.temperature}, max_tokens={cfg.max_tokens}\")\n",
    "print('Paths:', cfg.paths)"
   ]
  },
  {
   "cell_type": "markdown",
   "metadata": {},
   "source": [
    "## Data: Ensure GSM8K subsets exist"
   ]
  },
  {
   "cell_type": "code",
   "execution_count": null,
   "metadata": {},
   "outputs": [],
   "source": [
    "import os\n",
    "required = ['data/gsm8k_primary_eval.jsonl','data/gsm8k_validation.jsonl','data/gsm8k_final_test.jsonl']\n",
    "for p in required:\n",
    "    print(f'Found {p}:', os.path.exists(p))"
   ]
  },
  {
   "cell_type": "markdown",
   "metadata": {},
   "source": [
    "## TODO: Implement and import GA components (genome, operators, evaluator, selection, loop)"
   ]
  },
  {
   "cell_type": "code",
   "execution_count": null,
   "metadata": {},
   "outputs": [],
   "source": [
    "# Placeholder: show dynamic run parameters based on config\n",
    "eval_cfg = cfg.evaluation\n",
    "print({k:v for k,v in eval_cfg.items() if k in ['concurrency_limit','tolerance']})\n",
    "print('Eval sizes by phase:', eval_cfg.get('eval_problems_gen1_10'), eval_cfg.get('eval_problems_gen11_20'), eval_cfg.get('eval_problems_gen21_30'))"
   ]
  }
 ],
 "metadata": {
  "kernelspec": {"display_name": "Python 3 (ipykernel)", "language": "python", "name": "python3"},
  "language_info": {"name": "python", "version": "3.13"}
 },
 "nbformat": 4,
 "nbformat_minor": 5
}

